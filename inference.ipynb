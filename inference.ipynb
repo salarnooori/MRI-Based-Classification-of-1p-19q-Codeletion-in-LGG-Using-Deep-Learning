{
 "cells": [
  {
   "cell_type": "markdown",
   "metadata": {},
   "source": [
    "### Install Requirements"
   ]
  },
  {
   "cell_type": "code",
   "execution_count": null,
   "metadata": {},
   "outputs": [],
   "source": [
    "# Run this cell to install the required packages\n",
    "!pip3 install torch torchvision torchaudio --index-url https://download.pytorch.org/whl/cu126\n",
    "\n",
    "# If requirements.txt is present, switch the commented line\n",
    "!pip3 install gdown==5.2.0 ipykernel==6.29.5 monai==1.4.0 nibabel==5.3.2 pip==25.0 PySocks==1.7.1 scikit-learn==1.6.1 seaborn==0.13.2\n",
    "# !pip3 install -r requirements.txt"
   ]
  },
  {
   "cell_type": "markdown",
   "metadata": {},
   "source": [
    "### Import Libraries"
   ]
  },
  {
   "cell_type": "code",
   "execution_count": 1,
   "metadata": {},
   "outputs": [],
   "source": [
    "import os\n",
    "import gdown\n",
    "import torch\n",
    "import numpy as np\n",
    "import nibabel as nib\n",
    "import seaborn as sns\n",
    "import matplotlib.pyplot as plt\n",
    "import torchvision.transforms.v2 as transforms\n",
    "\n",
    "from scipy.ndimage import zoom\n",
    "from sklearn.metrics import confusion_matrix\n",
    "\n",
    "from monai.networks.nets import EfficientNetBN, Densenet121"
   ]
  },
  {
   "cell_type": "markdown",
   "metadata": {},
   "source": [
    "### Download trained model weights"
   ]
  },
  {
   "cell_type": "code",
   "execution_count": null,
   "metadata": {},
   "outputs": [
    {
     "name": "stderr",
     "output_type": "stream",
     "text": [
      "Downloading...\n",
      "From: https://drive.google.com/uc?export=download&id=1PJ7LPEWIiH9DU45lCLF93plnCIqFst8m\n",
      "To: e:\\U\\S\\01 - 4031\\IABI\\Proj\\Inference\\trained_effb0.zip\n",
      "100%|██████████| 15.2M/15.2M [00:02<00:00, 5.46MB/s]\n"
     ]
    },
    {
     "name": "stdout",
     "output_type": "stream",
     "text": [
      "Archive:  ./trained_effb0.zip\n",
      "  inflating: ./trained_effb0.pth     \n"
     ]
    }
   ],
   "source": [
    "state_dict_url = \"https://drive.google.com/uc?export=download&id=1PJ7LPEWIiH9DU45lCLF93plnCIqFst8m\"\n",
    "\n",
    "# download using gdown\n",
    "gdown.download(state_dict_url, \"./trained_effb0.zip\", quiet=False)\n",
    "\n",
    "!unzip -o \"./trained_effb0.zip\" -d \"./\""
   ]
  },
  {
   "cell_type": "markdown",
   "metadata": {},
   "source": [
    "### Set data and label csv directory paths"
   ]
  },
  {
   "cell_type": "code",
   "execution_count": 10,
   "metadata": {},
   "outputs": [],
   "source": [
    "label_dir = './lgg_labels.csv'\n",
    "input_dir = \"./test_data\""
   ]
  },
  {
   "cell_type": "markdown",
   "metadata": {},
   "source": [
    "### Load the trained model, and data"
   ]
  },
  {
   "cell_type": "code",
   "execution_count": 11,
   "metadata": {},
   "outputs": [
    {
     "data": {
      "text/plain": [
       "<All keys matched successfully>"
      ]
     },
     "execution_count": 11,
     "metadata": {},
     "output_type": "execute_result"
    }
   ],
   "source": [
    "mean = [73.42668914794922]\n",
    "std = [288.2677307128906]\n",
    "\n",
    "\n",
    "inference_transform = transforms.Compose([\n",
    "    transforms.Normalize(mean=mean, std=std),\n",
    "])\n",
    "\n",
    "model = EfficientNetBN(model_name=\"efficientnet-b0\",\n",
    "                       spatial_dims=2, in_channels=112, num_classes=1)\n",
    "model.load_state_dict(torch.load(\"./trained_effb0.pth\"))"
   ]
  },
  {
   "cell_type": "code",
   "execution_count": 4,
   "metadata": {},
   "outputs": [
    {
     "name": "stdout",
     "output_type": "stream",
     "text": [
      "[0, 1, 1, 0, 1]\n"
     ]
    }
   ],
   "source": [
    "# read labels from label_dir\n",
    "labels = []\n",
    "with open(label_dir, 'r') as f:\n",
    "    for line in f:\n",
    "        labels.append(line.strip())\n",
    "\n",
    "# process the labels\n",
    "labels.pop(0)\n",
    "labels = [i.split(',')[0] for i in labels]\n",
    "\n",
    "# convert elements of labels as follows: \"Co-deletion\" -> 0, \"d/d\" -> 0, \"intact\" -> 1, \"n/n\" -> 1\n",
    "for i in range(len(labels)):\n",
    "    if labels[i] == \"Co-deletion\" or labels[i] == \"d/d\":\n",
    "        labels[i] = 0\n",
    "    else:\n",
    "        labels[i] = 1\n",
    "\n",
    "print(labels)"
   ]
  },
  {
   "cell_type": "markdown",
   "metadata": {},
   "source": [
    "### Preprocess Data\n",
    "##### (Assuming the data has been properly preprocessed by the given standards of the project)"
   ]
  },
  {
   "cell_type": "code",
   "execution_count": null,
   "metadata": {},
   "outputs": [],
   "source": [
    "def remove_black_slices(img):\n",
    "    \"\"\"Removes black slices (slices with all pixel values equal to 0) from a preloaded NIfTI image.\n",
    "\n",
    "    Args:\n",
    "        img: Preloaded NIfTI image.\n",
    "\n",
    "    Returns:\n",
    "        The modified NIfTI image (or None if an error occurs).\n",
    "    \"\"\"\n",
    "    try:\n",
    "        img_data = img.get_fdata()\n",
    "\n",
    "        # Calculate sum of all pixels in each slice\n",
    "        slice_sums = np.sum(img_data, axis=(0, 1))\n",
    "\n",
    "        # Identify slices to keep (non-zero sum)\n",
    "        slices_to_keep = np.where(slice_sums != 0)[0]\n",
    "\n",
    "        # Extract those slices\n",
    "        new_data = img_data[:, :, slices_to_keep]\n",
    "\n",
    "        # Create a new NIfTI image with updated data\n",
    "        new_affine = img.affine.copy()\n",
    "        # Modify affine to reflect changes in z-axis dimension\n",
    "        new_affine[2, 3] = new_affine[2, 3] + \\\n",
    "            slices_to_keep[0]  # Or appropriate adjustment\n",
    "\n",
    "        new_img = nib.Nifti1Image(new_data, new_affine, header=img.header)\n",
    "        # Update header's dimensions\n",
    "        new_img.header.set_data_shape(new_data.shape)\n",
    "\n",
    "        return new_img\n",
    "    except Exception as e:\n",
    "        print(f\"Error processing image: {e}\")\n",
    "        return None"
   ]
  },
  {
   "cell_type": "markdown",
   "metadata": {},
   "source": [
    "### Preprocess Data\n",
    "##### (Assuming the data has been properly preprocessed by the given standards of the project)"
   ]
  },
  {
   "cell_type": "code",
   "execution_count": null,
   "metadata": {},
   "outputs": [],
   "source": [
    "def duplicate_slices(data, target_slices):\n",
    "    \"\"\"\n",
    "    If the image has less than half of the target slices, duplicate slices to improve interpolation quality.\n",
    "\n",
    "    Parameters:\n",
    "        data (numpy array): The 3D MRI data.\n",
    "        target_slices (int): The desired number of slices.\n",
    "\n",
    "    Returns:\n",
    "        numpy array: The expanded data before interpolation.\n",
    "    \"\"\"\n",
    "    current_slices = data.shape[2]\n",
    "\n",
    "    if current_slices < target_slices / 2:\n",
    "        # Determine duplication factor\n",
    "        factor = int(target_slices // current_slices)\n",
    "        expanded_data = np.repeat(data, factor, axis=2)\n",
    "\n",
    "        # If still below the target, add one more duplication pass\n",
    "        while expanded_data.shape[2] < target_slices / 2:\n",
    "            expanded_data = np.repeat(expanded_data, 2, axis=2)\n",
    "\n",
    "        return expanded_data\n",
    "    return data"
   ]
  },
  {
   "cell_type": "code",
   "execution_count": null,
   "metadata": {},
   "outputs": [],
   "source": [
    "def interpolate_nifti_image(nii, target_slices=64, order=3):\n",
    "    \"\"\"\n",
    "    Interpolates a NIfTI image to have a uniform number of slices, handling very thin images with duplication first.\n",
    "\n",
    "    Parameters:\n",
    "        nii (nib.Nifti1Image): Preloaded NIfTI image.\n",
    "        target_slices (int): Desired number of slices.\n",
    "        order (int): Interpolation order (default is 3 for cubic).\n",
    "\n",
    "    Returns:\n",
    "        nib.Nifti1Image: Interpolated NIfTI image.\n",
    "    \"\"\"\n",
    "    data = nii.get_fdata()\n",
    "\n",
    "    # Handle very thin images by duplicating slices before interpolation\n",
    "    data = duplicate_slices(data, target_slices)\n",
    "\n",
    "    # Compute scale factors for interpolation\n",
    "    scale_factors = (1, 1, target_slices / data.shape[2])\n",
    "\n",
    "    # Apply interpolation\n",
    "    resampled_data = zoom(data, scale_factors, order=order)\n",
    "\n",
    "    # Create the new NIfTI image\n",
    "    new_nii = nib.Nifti1Image(\n",
    "        resampled_data, affine=nii.affine, header=nii.header)\n",
    "\n",
    "    return new_nii"
   ]
  },
  {
   "cell_type": "markdown",
   "metadata": {},
   "source": [
    "### Calculate outputs"
   ]
  },
  {
   "cell_type": "code",
   "execution_count": null,
   "metadata": {},
   "outputs": [
    {
     "name": "stdout",
     "output_type": "stream",
     "text": [
      "Accuracy: 1.0\n",
      "Precision: 1.0\n",
      "Recall: 1.0\n",
      "F1 Score: 1.0\n",
      "\n",
      "In the following plot, '+' means intact (n/n), and '-' means codeleted (d/d).\n"
     ]
    },
    {
     "data": {
      "image/png": "[encoded data removed]",
      "text/plain": [
       "<Figure size 200x200 with 2 Axes>"
      ]
     },
     "metadata": {},
     "output_type": "display_data"
    }
   ],
   "source": [
    "# create a list of all the folders directly inside the input directory\n",
    "subdirs = [os.path.join(input_dir, x) for x in os.listdir(\n",
    "    input_dir) if os.path.isdir(os.path.join(input_dir, x))]\n",
    "\n",
    "data = []\n",
    "\n",
    "# each directory in subdirs contains a two nii files, one for T1, and one for T2 image. Load them\n",
    "for idx, subdir in enumerate(subdirs):\n",
    "    sample = {'id': idx,\n",
    "              'filepath': subdir,\n",
    "              'label': labels[idx]}\n",
    "    # get the list of files in the subdirectory\n",
    "    files = os.listdir(subdir)\n",
    "    t1_path = [x for x in files if 't1c' in x][0]\n",
    "    t2_path = [x for x in files if 't2w' in x][0]\n",
    "\n",
    "    t1_img = nib.load(subdir + \"/\" + t1_path)\n",
    "    t2_img = nib.load(subdir + \"/\" + t2_path)\n",
    "\n",
    "    # remove black slices\n",
    "    t1_img = remove_black_slices(t1_img)\n",
    "    t2_img = remove_black_slices(t2_img)\n",
    "\n",
    "    # interpolate the images to have 56 slices\n",
    "    t1_img = interpolate_nifti_image(t1_img, target_slices=56)\n",
    "    t2_img = interpolate_nifti_image(t2_img, target_slices=56)\n",
    "\n",
    "    # get the image data\n",
    "    t1_img = t1_img.get_fdata()\n",
    "    t2_img = t2_img.get_fdata()\n",
    "\n",
    "    # convert the images to float tensor\n",
    "    t1_img = torch.tensor(t1_img).float()\n",
    "    t2_img = torch.tensor(t2_img).float()\n",
    "\n",
    "    # normalize the images using torchvision transforms\n",
    "    t1_img = inference_transform(t1_img)\n",
    "    t2_img = inference_transform(t2_img)\n",
    "\n",
    "    # concat the images\n",
    "    img_data = [t1_img, t2_img]\n",
    "    img_data = torch.cat(img_data, dim=2)\n",
    "    img_data = img_data.permute(2, 0, 1)\n",
    "\n",
    "    output = model(img_data.unsqueeze(0))\n",
    "    pred = (output >= 0).float()\n",
    "    sample['prediction'] = pred.item()\n",
    "\n",
    "    data.append(sample)\n",
    "\n",
    "# calculate confusion matrix\n",
    "y_true = [x['label'] for x in data]\n",
    "y_pred = [x['prediction'] for x in data]\n",
    "cm = confusion_matrix(y_true, y_pred)\n",
    "\n",
    "# calculate accuracy, precision, recall, and F1-score\n",
    "tn, fp, fn, tp = cm.ravel()\n",
    "accuracy = (tp + tn) / (tp + tn + fp + fn)\n",
    "precision = tp / (tp + fp)\n",
    "recall = tp / (tp + fn)\n",
    "f1_score = 2 * (precision * recall) / (precision + recall)\n",
    "\n",
    "# print the metrics nicely\n",
    "print(f\"Accuracy: {accuracy}\")\n",
    "print(f\"Precision: {precision}\")\n",
    "print(f\"Recall: {recall}\")\n",
    "print(f\"F1 Score: {f1_score}\", end='\\n\\n')\n",
    "\n",
    "\n",
    "# plot the confusion matrix\n",
    "# modify the confusion matrix to include labels\n",
    "print(\"In the following plot, '+' means intact (n/n), and '-' means codeleted (d/d).\")\n",
    "cm_with_labels = np.array([[f\"TN = {tn}\", f\"FP = {fp}\"],\n",
    "                           [f\"FN = {fn}\", f\"TP = {tp}\"]])\n",
    "\n",
    "sns.heatmap(cm, annot=cm_with_labels, cmap='RdYlGn',\n",
    "            fmt='', annot_kws={\"size\": 7})\n",
    "plt.xlabel('Predicted')\n",
    "plt.ylabel('True')\n",
    "plt.xticks([0.5, 1.5], ['-', '+'])\n",
    "plt.yticks([0.5, 1.5], ['-', '+'])\n",
    "plt.gcf().set_size_inches(2, 2)"
   ]
  }
 ],
 "metadata": {
  "kernelspec": {
   "display_name": "base",
   "language": "python",
   "name": "python3"
  },
  "language_info": {
   "codemirror_mode": {
    "name": "ipython",
    "version": 3
   },
   "file_extension": ".py",
   "mimetype": "text/x-python",
   "name": "python",
   "nbconvert_exporter": "python",
   "pygments_lexer": "ipython3",
   "version": "3.12.3"
  }
 },
 "nbformat": 4,
 "nbformat_minor": 2
}
